{
  "nbformat": 4,
  "nbformat_minor": 0,
  "metadata": {
    "colab": {
      "provenance": [],
      "authorship_tag": "ABX9TyN1ejOoUavhWaPlgyQ9gsVS",
      "include_colab_link": true
    },
    "kernelspec": {
      "name": "python3",
      "display_name": "Python 3"
    },
    "language_info": {
      "name": "python"
    }
  },
  "cells": [
    {
      "cell_type": "markdown",
      "metadata": {
        "id": "view-in-github",
        "colab_type": "text"
      },
      "source": [
        "<a href=\"https://colab.research.google.com/github/VARUN-1999/700745184_ML_ASSIGNMENTS/blob/main/ASSIGNMENT_1/ASSIGNMENT_1.ipynb\" target=\"_parent\"><img src=\"https://colab.research.google.com/assets/colab-badge.svg\" alt=\"Open In Colab\"/></a>"
      ]
    },
    {
      "cell_type": "markdown",
      "source": [
        "**1.Question**\n",
        "\n",
        "The following is a list of 10 students ages:\n",
        "\n",
        "ages = [19, 22, 19, 24, 20, 25, 26, 24, 25, 24] \n",
        "\n",
        "• Sort the list and find the min and max age\n",
        "\n",
        "• Add the min age and the max age again to the list\n",
        "\n",
        "• Find the median age (one middle item or two middle items divided by two)\n",
        "\n",
        "• Find the average age (sum of all items divided by their number)\n",
        "\n",
        "• Find the range of the ages (max minus min)"
      ],
      "metadata": {
        "id": "z6g3hvp1_DEw"
      }
    },
    {
      "cell_type": "code",
      "source": [
        "ages = [19, 22, 19, 24, 20, 25, 26, 24, 25, 24]\n",
        "ages.sort()\n",
        "print(\"After sorting ages in ascending order: \",ages) \n",
        "min_age = min(ages)                                #min() function gives the minimum element in the list\n",
        "print(\"Minimum age in list: \", min_age)\n",
        "max_age = max(ages)                                #max() function gives the maximum element in the list\n",
        "print(\"Maximum age in list: \", max_age) \n",
        "ages.append(min_age)                               #Append adds the new element at the end of list\n",
        "ages.append(max_age)\n",
        "print(\"After adding min age and max age to list: \", ages)\n",
        "ages.sort()                                        #SORTING AGAIN INORDER TO DO MEDIAN \n",
        "len_ages = len(ages)                               #Length of List\n",
        "print(\"Length of ages list: \",len_ages)\n",
        "# Finding the median age\n",
        "if len_ages % 2  == 0: \n",
        "  median = (ages[int(len_ages/2)] + ages[int(len_ages/2) + 1] ) / 2\n",
        "else:\n",
        "  median = ages[int(len_ages/2)+1] / 2\n",
        "print(\"Median age: \",median)  \n",
        "avg_age = sum(ages) / len_ages                     # Average of the list\n",
        "print(\"Average age: \",avg_age)              \n",
        "range_ages = max_age - min_age                     # Range of the list\n",
        "print(\"Range of ages: \",range_ages)"
      ],
      "metadata": {
        "id": "Nw3fWcKl-25U"
      },
      "execution_count": null,
      "outputs": []
    },
    {
      "cell_type": "markdown",
      "source": [
        "**2.Question**\n",
        "\n",
        "• Create an empty dictionary called dog\n",
        "\n",
        "• Add name, color, breed, legs, age to the dog dictionary\n",
        "\n",
        "• Create a student dictionary and add first_name, last_name, gender, age, marital status,\n",
        "skills, country, city and address as keys for the dictionary\n",
        "\n",
        "• Get the length of the student dictionary\n",
        "\n",
        "• Get the value of skills and check the data type, it should be a list\n",
        "\n",
        "• Modify the skills values by adding one or two skills\n",
        "\n",
        "• Get the dictionary keys as a list\n",
        "\n",
        "• Get the dictionary values as a list"
      ],
      "metadata": {
        "id": "kpMdEeCHKS2L"
      }
    },
    {
      "cell_type": "code",
      "source": [
        "dog = {}                               #empty dictionary named dog is created\n",
        "dog[\"name\"] = \"jimmy\" \n",
        "dog[\"color\"] = \"Black and White\"\n",
        "dog[\"breed\"] = \"Dalmatian\"\n",
        "dog[\"legs\"] =  \"Medium\"\n",
        "dog[\"age\"] = 5\n",
        "print(\"Dog Dictionary: \",dog)\n",
        "Student ={\"first_name\":\"Varun\",\n",
        "          \"last_name\":\"Gaddam\",\n",
        "          \"Gender\":\"Male\",\n",
        "          \"Age\":23,\n",
        "          \"Marital_status\":\"Single\"\n",
        "          ,\"Skills\":[\"Python\",\"SQL\"],\n",
        "          \"Country\":\"USA\",\n",
        "          \"City\":\"Overland park\",\n",
        "          \"Address\":\"Lexington Farms\"}                       #Student Dictionary is created\n",
        "print(\"Length of student Dictionary: \",len(Student))         #Length of Student dictionary\n",
        "Student[\"Skills\"] = [\"java\",\"cpp\"]                           #Modifying Skills values in Student dictionary\n",
        "print(Student[\"Skills\"])  \n",
        "print(\"Datatype of skills value is: \",type(Student[\"Skills\"]))    #type keyword is uded to display data-type\n",
        "print(\"Keys in dictionary are: \",list(Student.keys()))            #dictionary.keys() returns all the keys in the dictionary as dictionary lists\n",
        "print(\"Values in dictionary are: \",list(Student.values()))        #dictionary.values() returns all the values in the dictionary as dictionary lists\n"
      ],
      "metadata": {
        "id": "b1T_0N9qKr-F"
      },
      "execution_count": null,
      "outputs": []
    },
    {
      "cell_type": "markdown",
      "source": [
        "**3.Question**\n",
        "\n",
        "• Create a tuple containing names of your sisters and your brothers (imaginary siblings are\n",
        "fine)\n",
        "\n",
        "• Join brothers and sisters tuples and assign it to siblings\n",
        "\n",
        "• How many siblings do you have?\n",
        "\n",
        "• Modify the siblings tuple and add the name of your father and mother and assign it to\n",
        "family_members"
      ],
      "metadata": {
        "id": "r7yHjR68f8ES"
      }
    },
    {
      "cell_type": "code",
      "source": [
        "brothers = ('Preetham','Manideep','Vinodh')\n",
        "sisters = ('Priya','Divya','Vineetha') \n",
        "siblings= brothers + sisters             # Concatinating tuples using '+' operator\n",
        "print(\"Siblings tuple: \",siblings)\n",
        "print(\"Length of siblings tuple: \",len(siblings))\n",
        "siblings = list(siblings)                # Modifying tuple by converting it to list as tuples are immutable\n",
        "siblings.append('Jhonny')\n",
        "siblings.append('Samantha')\n",
        "family_members = tuple(siblings)\n",
        "print(\"Family Members tuple: \",family_members)"
      ],
      "metadata": {
        "id": "cM0DrAAagPvl"
      },
      "execution_count": null,
      "outputs": []
    },
    {
      "cell_type": "markdown",
      "source": [
        "**4.Question**\n",
        "\n",
        "it_companies = {'Facebook', 'Google', 'Microsoft', 'Apple', 'IBM', 'Oracle', 'Amazon'}\n",
        "\n",
        "A = {19, 22, 24, 20, 25, 26}\n",
        "\n",
        "B = {19, 22, 20, 25, 26, 24, 28, 27}\n",
        "\n",
        "age = [22, 19, 24, 25, 26, 24, 25, 24]\n",
        "\n",
        "• Find the length of the set it_companies\n",
        "\n",
        "• Add 'Twitter' to it_companies\n",
        "\n",
        "• Insert multiple IT companies at once to the set it_companies\n",
        "\n",
        "• Remove one of the companies from the set it_companies\n",
        "\n",
        "• What is the difference between remove and discard\n",
        "\n",
        "• Join A and B\n",
        "\n",
        "• Find A intersection B\n",
        "\n",
        "• Is A subset of B\n",
        "\n",
        "• Are A and B disjoint sets\n",
        "\n",
        "• Join A with B and B with A\n",
        "\n",
        "• What is the symmetric difference between A and B\n",
        "\n",
        "• Delete the sets completely\n",
        "\n",
        "• Convert the ages to a set and compare the length of the list and the set."
      ],
      "metadata": {
        "id": "rCUJ4uf-rzxG"
      }
    },
    {
      "cell_type": "code",
      "source": [
        "it_companies = {'Facebook', 'Google', 'Microsoft', 'Apple', 'IBM', 'Oracle', 'Amazon'}\n",
        "print(\"Length of set is: \",len(it_companies))        # add() function is used to add single element to set \n",
        "it_companies.add('Twitter')\n",
        "print(\"Set after adding Twitter: \",it_companies)\n",
        "it_companies.update(['Accenture','TCS'])             # update() is used to add multiple elements to set \n",
        "print('Set after adding multiple IT companies: ',it_companies)\n",
        "it_companies.remove('TCS')                           # Remove eliminates the element in the set and throws the keyword error if element is not present in the set \n",
        "it_companies.discard('TCS')                          # Discard eliminates the element in the set , if element is not present in set it won't raise an error\n",
        "#it_companies.remove('TCS') \n",
        "print(it_companies)\n",
        "A = {19, 22, 24, 20, 25, 26}\n",
        "B = {19, 22, 20, 25, 26, 24, 28, 27}\n",
        "C = A.union(B)                                       # union() function is used to find the union between 2 sets\n",
        "print(\"Join of A and B is: \",C)                  \n",
        "D = A.intersection(B)                                # intersection() function is used to find the intersection between 2 sets\n",
        "print(\"Intersection of A and B is: \",D)\n",
        "if A.issubset(B):                                    # issubset() function is used to check whether one set is subset of other \n",
        "   print(\"A is subset of B\")\n",
        "else:\n",
        "   print(\"A is not subset of B\")\n",
        "if A.isdisjoint(B):                                  # isdisjoint() function is used to check whether two sets are disjoint or not\n",
        "  print(\"A and B are disjoint sets\")\n",
        "else:\n",
        "  print(\"A and B are not disjoint sets\")  \n",
        "E = B.union(A)\n",
        "print(\"Joining A with B and B with A gives: \",C.union(E))\n",
        "print(\"Symmetric difference between A and b is: \",A.symmetric_difference(B))\n",
        "del A                                                #del keyword is used to delete the set permanently \n",
        "del B\n",
        "age = [22, 19, 24, 25, 26, 24, 25, 24]\n",
        "age_set = set(age)\n",
        "print(\"length of age list is {} and length of age set is {}\".format(len(age),len(age_set)))\n",
        "#Here length of age set and age list is different because set won't accept duplicate elements whereas list accepts them\n",
        "if len(age) == len(age_set):                          #Returns true if their length is same else false\n",
        "  print(\"True\")\n",
        "else:\n",
        "  print(\"False\")  "
      ],
      "metadata": {
        "id": "84mwTAvNhnFi"
      },
      "execution_count": null,
      "outputs": []
    },
    {
      "cell_type": "markdown",
      "source": [
        "**5.Question**\n",
        "\n",
        "The radius of a circle is 30 meters.\n",
        "\n",
        "• Calculate the area of a circle and assign the value to a variable name of _area_of_circle_\n",
        "\n",
        "• Calculate the circumference of a circle and assign the value to a variable name of\n",
        "_circum_of_circle_\n",
        "\n",
        "• Take radius as user input and calculate the area."
      ],
      "metadata": {
        "id": "hqBT310hCFGw"
      }
    },
    {
      "cell_type": "code",
      "source": [
        "from  math import pi \n",
        "radius = int(input(\"Enter the radius of circle: \"))\n",
        "#radius = 30\n",
        "area_of_circle = pi * radius ** 2                             # Area of circle\n",
        "print(\"Area of circle: \",round(area_of_circle,2))\n",
        "circum_of_circle = 2 * pi * radius                            # Circumference of circle\n",
        "print(\"Circumference of circle: \",round(circum_of_circle,2))"
      ],
      "metadata": {
        "id": "ZnUv3E0Psln9"
      },
      "execution_count": null,
      "outputs": []
    },
    {
      "cell_type": "markdown",
      "source": [
        "**6.Question**\n",
        "\n",
        "“I am a teacher and I love to inspire and teach people”\n",
        "\n",
        "• How many unique words have been used in the sentence? Use the split methods and set\n",
        "to get the unique words."
      ],
      "metadata": {
        "id": "O8Tx7mvfF09J"
      }
    },
    {
      "cell_type": "code",
      "source": [
        "s = \"I am a teacher and I love to inspire and teach people\"\n",
        "s_set = set()\n",
        "for i in s.split():                                          # split() function is used to split the string\n",
        "    s_set.add(i)\n",
        "print(\"{} are unique words in the given sentence\".format(s_set))    "
      ],
      "metadata": {
        "id": "uW2aRDSTDNS1"
      },
      "execution_count": null,
      "outputs": []
    },
    {
      "cell_type": "markdown",
      "source": [
        "**7.Question**\n",
        "\n",
        "Use a tab escape sequence to get the following lines.\n",
        "\n",
        "**Name Age Country City**\n",
        "\n",
        "**Asabeneh 250 Finland Helsinki**\n"
      ],
      "metadata": {
        "id": "1fEpyzGoHoTn"
      }
    },
    {
      "cell_type": "code",
      "source": [
        "print(' \\033[1m Name \\t\\tAge \\tCountry \\tCity  \\033[1m')\n",
        "print(' \\033[1m Asabeneh \\t250 \\tFinland \\tHelsinki  \\033[1m')"
      ],
      "metadata": {
        "id": "iHU9lOy9GNMQ"
      },
      "execution_count": null,
      "outputs": []
    },
    {
      "cell_type": "markdown",
      "source": [
        "**8.Question**\n",
        "\n",
        "Use the string formatting method to display the following:\n",
        "\n",
        "radius = 10\n",
        "\n",
        "area = 3.14 * radius ** 2\n",
        "\n",
        "“The area of a circle with radius 10 is 314 meters square.”"
      ],
      "metadata": {
        "id": "ZFFw92aKMDhh"
      }
    },
    {
      "cell_type": "code",
      "source": [
        "radius_1 = 10\n",
        "area = 3.14 * radius_1 ** 2\n",
        "print(\" radius = 10 \\n area = 3.14 * radius ** 2 \\n The area of a circle with radius {} is {} meters square.\".format(radius_1,int(area)))"
      ],
      "metadata": {
        "id": "msA10npNJG-s"
      },
      "execution_count": null,
      "outputs": []
    },
    {
      "cell_type": "markdown",
      "source": [
        "**9.Question**\n",
        "\n",
        "Write a program, which reads weights (lbs.) of N students into a list and convert these weights to\n",
        "kilograms in a separate list using Loop. N: No of students (Read input from user)\n",
        "\n",
        "Ex: L1: [150, 155, 145, 148]\n",
        "\n",
        "Output: [68.03, 70.3, 65.77, 67.13]"
      ],
      "metadata": {
        "id": "J4dhApfjNuGv"
      }
    },
    {
      "cell_type": "code",
      "source": [
        "N = int(input(\"Enter number of students: \"))\n",
        "L1 = []\n",
        "print(\"Enter weights of students: \")\n",
        "for i in range(N):\n",
        "  k = int(input())\n",
        "  L1.append(k)\n",
        "L2 = [round(L1[j]*0.453592,2) for j in range(len(L1))]  # List comprehension\n",
        "#for j in range(len(L1)):\n",
        "#  L2.append(L1[j]*0.453592)  \n",
        "print(L2)  "
      ],
      "metadata": {
        "id": "j13VWgoFNRdS"
      },
      "execution_count": null,
      "outputs": []
    }
  ]
}