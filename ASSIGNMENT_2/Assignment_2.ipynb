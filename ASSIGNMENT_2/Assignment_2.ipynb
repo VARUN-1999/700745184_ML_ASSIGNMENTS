{
  "nbformat": 4,
  "nbformat_minor": 0,
  "metadata": {
    "colab": {
      "provenance": [],
      "authorship_tag": "ABX9TyPXZx2T1tyr1GYXpeO17Vi9",
      "include_colab_link": true
    },
    "kernelspec": {
      "name": "python3",
      "display_name": "Python 3"
    },
    "language_info": {
      "name": "python"
    }
  },
  "cells": [
    {
      "cell_type": "markdown",
      "metadata": {
        "id": "view-in-github",
        "colab_type": "text"
      },
      "source": [
        "<a href=\"https://colab.research.google.com/github/VARUN-1999/700745184_ML_ASSIGNMENTS/blob/main/ASSIGNMENT_2/Assignment_2.ipynb\" target=\"_parent\"><img src=\"https://colab.research.google.com/assets/colab-badge.svg\" alt=\"Open In Colab\"/></a>"
      ]
    },
    {
      "cell_type": "markdown",
      "source": [
        "1.Question"
      ],
      "metadata": {
        "id": "TFQns5NS20j_"
      }
    },
    {
      "cell_type": "code",
      "source": [
        "for i in range(1,6):\n",
        "  print('*'*i)\n",
        "for j in range(4,0,-1):\n",
        "  print('*'*j)"
      ],
      "metadata": {
        "colab": {
          "base_uri": "https://localhost:8080/"
        },
        "id": "DODkDNOU3KPC",
        "outputId": "3253eefe-8829-4b6f-f1c5-4486c4b32f35"
      },
      "execution_count": 40,
      "outputs": [
        {
          "output_type": "stream",
          "name": "stdout",
          "text": [
            "*\n",
            "**\n",
            "***\n",
            "****\n",
            "*****\n",
            "****\n",
            "***\n",
            "**\n",
            "*\n"
          ]
        }
      ]
    },
    {
      "cell_type": "markdown",
      "source": [
        "2.Question"
      ],
      "metadata": {
        "id": "sdJPYILD3rXX"
      }
    },
    {
      "cell_type": "code",
      "source": [
        "my_list = [10,20,30,40,50,60,70,80,90,100]\n",
        "odd_list = []\n",
        "for i in range(1,len(my_list)):\n",
        "   if i % 2 != 0:\n",
        "     odd_list.append(my_list[i])\n",
        "print(odd_list)     \n"
      ],
      "metadata": {
        "colab": {
          "base_uri": "https://localhost:8080/"
        },
        "id": "PXLzjkOh3YjX",
        "outputId": "64965467-5a21-44bc-925b-2acef1752434"
      },
      "execution_count": 41,
      "outputs": [
        {
          "output_type": "stream",
          "name": "stdout",
          "text": [
            "[20, 40, 60, 80, 100]\n"
          ]
        }
      ]
    },
    {
      "cell_type": "markdown",
      "source": [
        "3.Question"
      ],
      "metadata": {
        "id": "5xmXFAMn6GYx"
      }
    },
    {
      "cell_type": "code",
      "source": [
        "x = [23,'Python',23.98]\n",
        "res = []\n",
        "for j in x:\n",
        "  #print(type(j), sep = ' ')\n",
        "  res.append(type(j))\n",
        "print(x)  \n",
        "print(res) \n"
      ],
      "metadata": {
        "colab": {
          "base_uri": "https://localhost:8080/"
        },
        "id": "CrQBuQGb5FuH",
        "outputId": "91d851b8-bc8a-48cd-f8ae-be6c4519b1e4"
      },
      "execution_count": 42,
      "outputs": [
        {
          "output_type": "stream",
          "name": "stdout",
          "text": [
            "[23, 'Python', 23.98]\n",
            "[<class 'int'>, <class 'str'>, <class 'float'>]\n"
          ]
        }
      ]
    },
    {
      "cell_type": "markdown",
      "source": [
        "4.Question"
      ],
      "metadata": {
        "id": "G0cUicpD8ggs"
      }
    },
    {
      "cell_type": "code",
      "source": [
        "def  unique_list(l):\n",
        "    uniq_result = []\n",
        "    for i in l:\n",
        "      if i not in uniq_result:\n",
        "        uniq_result.append(i)\n",
        "    return uniq_result\n",
        "a = int(input(\"Enter the number of elements:\"))\n",
        "l =[]\n",
        "for k in range(a):\n",
        "     l.append(int(input()))\n",
        "print(unique_list(l))      "
      ],
      "metadata": {
        "colab": {
          "base_uri": "https://localhost:8080/"
        },
        "id": "KRzakS4Q6Z3K",
        "outputId": "f1eb7b0e-9221-4043-b673-319041ed1835"
      },
      "execution_count": 43,
      "outputs": [
        {
          "output_type": "stream",
          "name": "stdout",
          "text": [
            "Enter the number of elements:8\n",
            "1\n",
            "2\n",
            "3\n",
            "3\n",
            "3\n",
            "3\n",
            "4\n",
            "5\n",
            "[1, 2, 3, 4, 5]\n"
          ]
        }
      ]
    },
    {
      "cell_type": "markdown",
      "source": [
        "5.Question"
      ],
      "metadata": {
        "id": "Xtsd5m-vAMGz"
      }
    },
    {
      "cell_type": "code",
      "source": [
        "def no_upper_lower(s):\n",
        "  upper_count = 0\n",
        "  lower_count = 0\n",
        "  s1 = s.replace(\" \",\"\")\n",
        "  for i in s1:\n",
        "    if i.isupper():\n",
        "      upper_count += 1\n",
        "    else:\n",
        "      lower_count += 1 \n",
        "  return print(\"No of upper-case characters: \",upper_count,\"\\n\",\"No of lower-case characters: \",lower_count)    \n",
        "no_upper_lower('The quick Brow Fox')\n"
      ],
      "metadata": {
        "colab": {
          "base_uri": "https://localhost:8080/"
        },
        "id": "XgQyBxDr9_hd",
        "outputId": "1f913179-43e0-43da-8496-d25ce656f822"
      },
      "execution_count": 44,
      "outputs": [
        {
          "output_type": "stream",
          "name": "stdout",
          "text": [
            "No of upper-case characters:  3 \n",
            " No of lower-case characters:  12\n"
          ]
        }
      ]
    }
  ]
}